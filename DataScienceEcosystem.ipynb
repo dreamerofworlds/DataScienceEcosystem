{
 "cells": [
  {
   "cell_type": "markdown",
   "id": "66885220-8603-42a2-a75c-29411ffe4d5e",
   "metadata": {},
   "source": [
    "# Data Science Tools and Ecosystem"
   ]
  },
  {
   "cell_type": "markdown",
   "id": "ed42e43f-5487-4e48-87c7-2626dedb59bd",
   "metadata": {},
   "source": [
    "In this notebook, Data Science Tools and Ecosystem are summarized."
   ]
  },
  {
   "cell_type": "markdown",
   "id": "363e2346-9a2e-4fae-aaf2-c1222088cf6c",
   "metadata": {},
   "source": [
    "Some of the popular languages that Data Scientists use are:\n",
    "1. Python\n",
    "2. R\n",
    "3. SQL\n",
    "4. Julia"
   ]
  },
  {
   "cell_type": "markdown",
   "id": "b9423a5b-d917-4604-906b-094a70225179",
   "metadata": {},
   "source": [
    "Some of the commonly used libraries used by Data Scientists include:\n",
    "1. pandas\n",
    "2. numpy\n",
    "3. matplotlib"
   ]
  },
  {
   "cell_type": "markdown",
   "id": "9fa95496-e7c4-4474-96f6-e5bce073319a",
   "metadata": {},
   "source": [
    "| Data Science Tools|\n",
    "|---|\n",
    "| Jupyter Notebook/Lab |\n",
    "| RStudio | \n",
    "| Spyder |"
   ]
  },
  {
   "cell_type": "markdown",
   "id": "107ca323-cb02-4ab4-b998-145f769c41d6",
   "metadata": {},
   "source": [
    "### Below are a few examples of evaluating arithmetic expressions in Python\n",
    "\n",
    "a = 10\n",
    "b = 5\n",
    "c = 2\n",
    "d = (a - b) * c\n",
    "print(d)"
   ]
  },
  {
   "cell_type": "code",
   "execution_count": 1,
   "id": "7e671326-44f4-4017-85c2-8b7f766ca745",
   "metadata": {},
   "outputs": [
    {
     "data": {
      "text/plain": [
       "17"
      ]
     },
     "execution_count": 1,
     "metadata": {},
     "output_type": "execute_result"
    }
   ],
   "source": [
    "# This a simple artihmetic expression to multiply then add integers\n",
    "(3*4)+5"
   ]
  },
  {
   "cell_type": "code",
   "execution_count": 3,
   "id": "a02c387d-00a5-4c68-8171-3c679d08c25e",
   "metadata": {},
   "outputs": [
    {
     "data": {
      "text/plain": [
       "3.3333333333333335"
      ]
     },
     "execution_count": 3,
     "metadata": {},
     "output_type": "execute_result"
    }
   ],
   "source": [
    "# This will convert 200 minutes to hours by dividing by 60\n",
    "\n",
    "minutes = 200\n",
    "conv = 60\n",
    "hours = minutes/conv\n",
    "hours"
   ]
  },
  {
   "cell_type": "markdown",
   "id": "7d4fab4b-9cc9-4e3d-8091-3db061e1a692",
   "metadata": {},
   "source": [
    "**Objectives:**\n",
    "* List popular languages for Data Science\n",
    "* List commonly used libraries used by Data Scientists\n",
    "* List a few open source tools Data Scientists use\n",
    "* Show some basic arithmetics\n",
    "* Show some basic Python code (operations)"
   ]
  },
  {
   "cell_type": "markdown",
   "id": "4b1c2a6a-93c2-4893-9620-ed3900776495",
   "metadata": {},
   "source": [
    "## Author\n",
    "Nicolas Urbain"
   ]
  },
  {
   "cell_type": "code",
   "execution_count": null,
   "id": "2c4680b5-8207-4bee-be4c-78b85c721eac",
   "metadata": {},
   "outputs": [],
   "source": []
  }
 ],
 "metadata": {
  "kernelspec": {
   "display_name": "Python 3 (ipykernel)",
   "language": "python",
   "name": "python3"
  },
  "language_info": {
   "codemirror_mode": {
    "name": "ipython",
    "version": 3
   },
   "file_extension": ".py",
   "mimetype": "text/x-python",
   "name": "python",
   "nbconvert_exporter": "python",
   "pygments_lexer": "ipython3",
   "version": "3.11.4"
  }
 },
 "nbformat": 4,
 "nbformat_minor": 5
}
